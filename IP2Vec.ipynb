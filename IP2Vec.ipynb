{
 "cells": [
  {
   "cell_type": "code",
   "execution_count": 1,
   "id": "2d56dc0a-19e3-4d00-ac65-442599b9c6c9",
   "metadata": {},
   "outputs": [],
   "source": [
    "import preprocess\n",
    "import model\n",
    "import pandas as pd\n",
    "import numpy as np"
   ]
  },
  {
   "cell_type": "code",
   "execution_count": 3,
   "id": "1549b25c-de94-40f3-8b20-8f0faa398ebf",
   "metadata": {},
   "outputs": [
    {
     "data": {
      "text/html": [
       "<div>\n",
       "<style scoped>\n",
       "    .dataframe tbody tr th:only-of-type {\n",
       "        vertical-align: middle;\n",
       "    }\n",
       "\n",
       "    .dataframe tbody tr th {\n",
       "        vertical-align: top;\n",
       "    }\n",
       "\n",
       "    .dataframe thead th {\n",
       "        text-align: right;\n",
       "    }\n",
       "</style>\n",
       "<table border=\"1\" class=\"dataframe\">\n",
       "  <thead>\n",
       "    <tr style=\"text-align: right;\">\n",
       "      <th></th>\n",
       "      <th>src_ip</th>\n",
       "      <th>dst_ip</th>\n",
       "      <th>dst_port</th>\n",
       "      <th>proto</th>\n",
       "    </tr>\n",
       "  </thead>\n",
       "  <tbody>\n",
       "    <tr>\n",
       "      <th>0</th>\n",
       "      <td>192.168.180.160</td>\n",
       "      <td>52.109.20.75</td>\n",
       "      <td>443.0</td>\n",
       "      <td>6</td>\n",
       "    </tr>\n",
       "    <tr>\n",
       "      <th>1</th>\n",
       "      <td>192.168.180.122</td>\n",
       "      <td>20.42.73.26</td>\n",
       "      <td>443.0</td>\n",
       "      <td>6</td>\n",
       "    </tr>\n",
       "    <tr>\n",
       "      <th>2</th>\n",
       "      <td>192.168.180.160</td>\n",
       "      <td>20.189.173.12</td>\n",
       "      <td>443.0</td>\n",
       "      <td>6</td>\n",
       "    </tr>\n",
       "    <tr>\n",
       "      <th>3</th>\n",
       "      <td>192.168.180.139</td>\n",
       "      <td>23.32.129.39</td>\n",
       "      <td>443.0</td>\n",
       "      <td>6</td>\n",
       "    </tr>\n",
       "    <tr>\n",
       "      <th>4</th>\n",
       "      <td>192.168.180.169</td>\n",
       "      <td>172.67.188.70</td>\n",
       "      <td>443.0</td>\n",
       "      <td>6</td>\n",
       "    </tr>\n",
       "  </tbody>\n",
       "</table>\n",
       "</div>"
      ],
      "text/plain": [
       "            src_ip         dst_ip  dst_port  proto\n",
       "0  192.168.180.160   52.109.20.75     443.0      6\n",
       "1  192.168.180.122    20.42.73.26     443.0      6\n",
       "2  192.168.180.160  20.189.173.12     443.0      6\n",
       "3  192.168.180.139   23.32.129.39     443.0      6\n",
       "4  192.168.180.169  172.67.188.70     443.0      6"
      ]
     },
     "execution_count": 3,
     "metadata": {},
     "output_type": "execute_result"
    }
   ],
   "source": [
    "### Toy dataset\n",
    "train_data = pd.read_csv('TLS_SSL_malware_detection/malware_detection_data/train.csv', index_col=False)\n",
    "\n",
    "train_data['proto'] = 6\n",
    "\n",
    "train_data = train_data[['src_ip', 'dst_ip', 'dst_port', 'proto']]\n",
    "\n",
    "train_data.head()"
   ]
  },
  {
   "cell_type": "code",
   "execution_count": 4,
   "id": "17429348-3104-430f-9c72-85ef77c1632a",
   "metadata": {},
   "outputs": [],
   "source": [
    "def get_word_to_id(train_data, center_word_type_list):\n",
    "    word_list = []\n",
    "    word_to_id = {}\n",
    "    for word_type in center_word_type_list:\n",
    "        word_list.extend(list(train_data[word_type].unique()))\n",
    "    for i, word in enumerate(word_list):\n",
    "        word_to_id[word] = i\n",
    "    return word_to_id"
   ]
  },
  {
   "cell_type": "code",
   "execution_count": 5,
   "id": "3f8af1aa-1d56-431f-9a5f-e848161bf3ff",
   "metadata": {},
   "outputs": [],
   "source": [
    "word_to_id = get_word_to_id(train_data, ['src_ip', 'dst_ip', 'dst_port', 'proto'])"
   ]
  },
  {
   "cell_type": "code",
   "execution_count": 6,
   "id": "624c37cc-dda8-42a9-baf5-d604192c1c2e",
   "metadata": {},
   "outputs": [],
   "source": [
    "preproc = preprocess.Preprocess(train_data.values, word_to_id, window_size = 2)"
   ]
  },
  {
   "cell_type": "code",
   "execution_count": 7,
   "id": "5642241f-1fd0-4f1d-8ce3-0c7f658ebe02",
   "metadata": {},
   "outputs": [],
   "source": [
    "X, y = preproc.generate_training_data()"
   ]
  },
  {
   "cell_type": "code",
   "execution_count": 8,
   "id": "8afdcae5-29e6-43c8-aa1b-030011c54bfe",
   "metadata": {},
   "outputs": [],
   "source": [
    "model = model.ip2vec(X=X, Y=y, vocab_size = 586, emb_size=50 , learning_rate=0.000000001, \n",
    "                     epochs=100, batch_size=25, parameters=None, print_cost=True, plot_cost=True)"
   ]
  },
  {
   "cell_type": "code",
   "execution_count": 9,
   "id": "bd660bc5-7081-4437-aecc-d81ecd76fec4",
   "metadata": {},
   "outputs": [
    {
     "name": "stdout",
     "output_type": "stream",
     "text": [
      "Cost after epoch 0: -192984.1120426894\n",
      "Cost after epoch 1: -192984.11206142564\n",
      "Cost after epoch 2: -192984.11208795683\n"
     ]
    },
    {
     "ename": "KeyboardInterrupt",
     "evalue": "",
     "output_type": "error",
     "traceback": [
      "\u001b[0;31m---------------------------------------------------------------------------\u001b[0m",
      "\u001b[0;31mKeyboardInterrupt\u001b[0m                         Traceback (most recent call last)",
      "Cell \u001b[0;32mIn[9], line 1\u001b[0m\n\u001b[0;32m----> 1\u001b[0m \u001b[43mmodel\u001b[49m\u001b[38;5;241;43m.\u001b[39;49m\u001b[43mskipgram_model_training\u001b[49m\u001b[43m(\u001b[49m\u001b[43m)\u001b[49m\n",
      "File \u001b[0;32m~/IP2Vec/model.py:179\u001b[0m, in \u001b[0;36mip2vec.skipgram_model_training\u001b[0;34m(self)\u001b[0m\n\u001b[1;32m    176\u001b[0m Y_batch \u001b[38;5;241m=\u001b[39m \u001b[38;5;28mself\u001b[39m\u001b[38;5;241m.\u001b[39mY[:, i:i\u001b[38;5;241m+\u001b[39m\u001b[38;5;28mself\u001b[39m\u001b[38;5;241m.\u001b[39mbatch_size]\n\u001b[1;32m    178\u001b[0m softmax_out, caches \u001b[38;5;241m=\u001b[39m \u001b[38;5;28mself\u001b[39m\u001b[38;5;241m.\u001b[39mforward_propagation(X_batch, \u001b[38;5;28mself\u001b[39m\u001b[38;5;241m.\u001b[39mparameters)\n\u001b[0;32m--> 179\u001b[0m gradients \u001b[38;5;241m=\u001b[39m \u001b[38;5;28;43mself\u001b[39;49m\u001b[38;5;241;43m.\u001b[39;49m\u001b[43mbackward_propagation\u001b[49m\u001b[43m(\u001b[49m\u001b[43mY_batch\u001b[49m\u001b[43m,\u001b[49m\u001b[43m \u001b[49m\u001b[43msoftmax_out\u001b[49m\u001b[43m,\u001b[49m\u001b[43m \u001b[49m\u001b[43mcaches\u001b[49m\u001b[43m)\u001b[49m\n\u001b[1;32m    180\u001b[0m \u001b[38;5;28mself\u001b[39m\u001b[38;5;241m.\u001b[39mupdate_parameters(\u001b[38;5;28mself\u001b[39m\u001b[38;5;241m.\u001b[39mparameters, caches, gradients, \u001b[38;5;28mself\u001b[39m\u001b[38;5;241m.\u001b[39mlearning_rate)\n\u001b[1;32m    181\u001b[0m cost \u001b[38;5;241m=\u001b[39m \u001b[38;5;28mself\u001b[39m\u001b[38;5;241m.\u001b[39mcross_entropy(Y_batch, softmax_out)\n",
      "File \u001b[0;32m~/IP2Vec/model.py:132\u001b[0m, in \u001b[0;36mip2vec.backward_propagation\u001b[0;34m(self, Y, softmax_out, caches)\u001b[0m\n\u001b[1;32m    130\u001b[0m \u001b[38;5;28;01mdef\u001b[39;00m \u001b[38;5;21mbackward_propagation\u001b[39m(\u001b[38;5;28mself\u001b[39m, Y, softmax_out, caches):\n\u001b[1;32m    131\u001b[0m     dL_dZ \u001b[38;5;241m=\u001b[39m \u001b[38;5;28mself\u001b[39m\u001b[38;5;241m.\u001b[39msoftmax_backward(Y, softmax_out)\n\u001b[0;32m--> 132\u001b[0m     dL_dW, dL_dword_vec \u001b[38;5;241m=\u001b[39m \u001b[38;5;28;43mself\u001b[39;49m\u001b[38;5;241;43m.\u001b[39;49m\u001b[43mdense_backward\u001b[49m\u001b[43m(\u001b[49m\u001b[43mdL_dZ\u001b[49m\u001b[43m,\u001b[49m\u001b[43m \u001b[49m\u001b[43mcaches\u001b[49m\u001b[43m)\u001b[49m\n\u001b[1;32m    134\u001b[0m     gradients \u001b[38;5;241m=\u001b[39m \u001b[38;5;28mdict\u001b[39m()\n\u001b[1;32m    135\u001b[0m     gradients[\u001b[38;5;124m'\u001b[39m\u001b[38;5;124mdL_dZ\u001b[39m\u001b[38;5;124m'\u001b[39m] \u001b[38;5;241m=\u001b[39m dL_dZ\n",
      "File \u001b[0;32m~/IP2Vec/model.py:123\u001b[0m, in \u001b[0;36mip2vec.dense_backward\u001b[0;34m(self, dL_dZ, caches)\u001b[0m\n\u001b[1;32m    120\u001b[0m m \u001b[38;5;241m=\u001b[39m word_vec\u001b[38;5;241m.\u001b[39mshape[\u001b[38;5;241m1\u001b[39m]\n\u001b[1;32m    122\u001b[0m dL_dW \u001b[38;5;241m=\u001b[39m (\u001b[38;5;241m1\u001b[39m \u001b[38;5;241m/\u001b[39m m) \u001b[38;5;241m*\u001b[39m np\u001b[38;5;241m.\u001b[39mdot(dL_dZ, word_vec\u001b[38;5;241m.\u001b[39mT)\n\u001b[0;32m--> 123\u001b[0m dL_dword_vec \u001b[38;5;241m=\u001b[39m \u001b[43mnp\u001b[49m\u001b[38;5;241;43m.\u001b[39;49m\u001b[43mdot\u001b[49m\u001b[43m(\u001b[49m\u001b[43mW\u001b[49m\u001b[38;5;241;43m.\u001b[39;49m\u001b[43mT\u001b[49m\u001b[43m,\u001b[49m\u001b[43m \u001b[49m\u001b[43mdL_dZ\u001b[49m\u001b[43m)\u001b[49m\n\u001b[1;32m    125\u001b[0m \u001b[38;5;28;01massert\u001b[39;00m(W\u001b[38;5;241m.\u001b[39mshape \u001b[38;5;241m==\u001b[39m dL_dW\u001b[38;5;241m.\u001b[39mshape)\n\u001b[1;32m    126\u001b[0m \u001b[38;5;28;01massert\u001b[39;00m(word_vec\u001b[38;5;241m.\u001b[39mshape \u001b[38;5;241m==\u001b[39m dL_dword_vec\u001b[38;5;241m.\u001b[39mshape)\n",
      "File \u001b[0;32m<__array_function__ internals>:180\u001b[0m, in \u001b[0;36mdot\u001b[0;34m(*args, **kwargs)\u001b[0m\n",
      "\u001b[0;31mKeyboardInterrupt\u001b[0m: "
     ]
    }
   ],
   "source": [
    "model.skipgram_model_training()"
   ]
  },
  {
   "cell_type": "code",
   "execution_count": null,
   "id": "20c9a463-14e5-4c45-aa73-9319063dc80f",
   "metadata": {},
   "outputs": [],
   "source": []
  }
 ],
 "metadata": {
  "kernelspec": {
   "display_name": "Python 3 (ipykernel)",
   "language": "python",
   "name": "python3"
  },
  "language_info": {
   "codemirror_mode": {
    "name": "ipython",
    "version": 3
   },
   "file_extension": ".py",
   "mimetype": "text/x-python",
   "name": "python",
   "nbconvert_exporter": "python",
   "pygments_lexer": "ipython3",
   "version": "3.10.6"
  }
 },
 "nbformat": 4,
 "nbformat_minor": 5
}
